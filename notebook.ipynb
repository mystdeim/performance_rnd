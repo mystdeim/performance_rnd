{
 "cells": [
  {
   "cell_type": "code",
   "execution_count": 1,
   "metadata": {
    "collapsed": true
   },
   "outputs": [],
   "source": [
    "import pprint\n",
    "import requests\n",
    "import re\n",
    "import json\n",
    "\n",
    "import os\n",
    "import subprocess\n",
    "import time"
   ]
  },
  {
   "cell_type": "code",
   "execution_count": 2,
   "metadata": {
    "collapsed": true
   },
   "outputs": [],
   "source": [
    "home = \"/home/rnovikov/workspace/java/performance_rnd/\"\n",
    "duration = 2\n",
    "hot_iter = 1"
   ]
  },
  {
   "cell_type": "code",
   "execution_count": 3,
   "metadata": {
    "collapsed": true
   },
   "outputs": [],
   "source": [
    "class Item:\n",
    "    build_size = 0\n",
    "    start_time = 0\n",
    "    start_heap = 0\n",
    "    start_heap_gc = 0\n",
    "    requests_cold = 0\n",
    "    requests_cold_heap = 0\n",
    "    requests_hot = 0\n",
    "    requests_hot_heap = 0\n",
    "    \n",
    "def heap_usage(pid):\n",
    "    cmd = \"jstat -gc \" + str(pid) + \" | tail -n 1 | awk '{split($0,a,\\\" \\\"); sum=a[3]+a[4]+a[6]+a[8]; print sum}'\"\n",
    "    return float(subprocess.check_output(cmd, shell=True).decode('utf-8').strip())\n",
    "def full_gc(pid):\n",
    "    out = subprocess.check_output(['jcmd', str(pid), 'GC.run']).decode('utf-8').strip()\n",
    "    if \"successfully\" in out:\n",
    "        print(\"Full GC\")\n",
    "    else:\n",
    "        print(\"Problem with full gc\")\n",
    "def request_per_seconds(url):\n",
    "    p = subprocess.Popen(['wrk','-t8','-c1000','-d{:d}s'.format(duration),'http://127.0.0.1:8080/'+url], stdout=subprocess.PIPE)\n",
    "    for line in p.stdout.readlines():\n",
    "        utf8line = line.decode('utf-8').strip()\n",
    "        if \"Requests/sec\" in utf8line:\n",
    "            print(utf8line)\n",
    "            return float(re.findall(\"\\d+\\.\\d+\", utf8line)[0])    \n",
    "def build(url):\n",
    "    os.chdir(home + url)\n",
    "    start = time.time()\n",
    "    subprocess.check_output([\"gradle\", \"clean\", \"build\"])\n",
    "    evaluate = time.time() - start\n",
    "    print(\"Build created in {:f} s\".format(evaluate))\n",
    "    return url\n",
    "    \n",
    "def print_item(title, item):  \n",
    "    print(title)\n",
    "    print(\"Build size: {:.2f}mb\".format(item.build_size))\n",
    "    print(\"Start in {:.2f}s, heap: [{:.2f}/{:.2f}]mb\"\n",
    "          .format(item.start_time, item.start_heap, item.start_heap_gc))\n",
    "    print(\"Cold: {:10.2f}s {:7.2f}mb\".format(item.requests_cold,item.requests_cold_heap))\n",
    "    print(\"Hot:  {:10.2f}s {:7.2f}mb\".format(item.requests_hot,item.requests_hot_heap))\n",
    "    \n",
    "def test_all(projects):\n",
    "    results = {}\n",
    "    for project in projects:\n",
    "        results[project] = run_test(build(project), \"test\")\n",
    "    for key, value in results.items():\n",
    "        print_item(\"\\n\" + key.upper(), value)  \n",
    "        \n",
    "def run_test(project, url):\n",
    "    item = Item()\n",
    "    item.build_size = os.path.getsize(home + project +'/build/libs/fatjar.jar') / 1000000\n",
    "    start = time.time()\n",
    "    p = subprocess.Popen(['java', '-jar', 'build/libs/fatjar.jar'], shell=False, stdout=subprocess.PIPE)\n",
    "    for line in p.stdout:\n",
    "        utf8line = line.decode('utf-8')\n",
    "        if \"Started \" in utf8line:\n",
    "            item.start_time = time.time() - start\n",
    "            print(project.upper() + \" was started\")\n",
    "            item.start_heap = heap_usage(p.pid) / 1000\n",
    "            full_gc(p.pid)\n",
    "            item.start_heap_gc = heap_usage(p.pid) / 1000\n",
    "            \n",
    "            # test\n",
    "            item.requests_cold = request_per_seconds(url)\n",
    "            item.requests_cold_heap = heap_usage(p.pid) / 1000\n",
    "            [request_per_seconds(url) for _ in range(hot_iter)]\n",
    "            item.requests_hot = request_per_seconds(url)\n",
    "            item.requests_hot_heap = heap_usage(p.pid) / 1000\n",
    "            \n",
    "            p.terminate()\n",
    "            break\n",
    "    p.wait() \n",
    "    return item"
   ]
  },
  {
   "cell_type": "code",
   "execution_count": 9,
   "metadata": {},
   "outputs": [
    {
     "name": "stdout",
     "output_type": "stream",
     "text": [
      "Build created in 3.977154 s\n",
      "SPRINGBOOT_THYMELEAF was started\n",
      "Full GC\n",
      "Requests/sec:   5142.10\n",
      "Requests/sec:  11249.37\n",
      "Requests/sec:  23850.99\n",
      "\n",
      "SPRINGBOOT_THYMELEAF\n",
      "Build size: 21.23mb\n",
      "Start in 1.99s, heap: [89.05/18.28]mb\n",
      "Cold:    5142.10s  177.05mb\n",
      "Hot:    23850.99s  303.73mb\n"
     ]
    }
   ],
   "source": [
    "projects = [\"springboot_rest\", \"springboot_rest_db\", \n",
    "            \"vertx_rest\", \"vertx_rest_jdbc\", \"vertx_rest_db\"]\n",
    "projects = [\"springboot_thymeleaf\"]\n",
    "test_all(projects)"
   ]
  },
  {
   "cell_type": "code",
   "execution_count": 33,
   "metadata": {},
   "outputs": [
    {
     "name": "stdout",
     "output_type": "stream",
     "text": [
      "Build created in 2.768953 s\n",
      "Spring was started\n",
      "Full GC\n",
      "Requests/sec:   4737.10\n",
      "Requests/sec:   9346.39\n",
      "Requests/sec:  14449.77\n",
      "Build created in 3.897551 s\n",
      "Vertx was started\n",
      "Full GC\n",
      "Requests/sec:  50976.18\n",
      "Requests/sec: 206606.21\n",
      "Requests/sec: 310253.01\n",
      "\n",
      "SPRING REST\n",
      "Build size: 14.41mb\n",
      "Start in 1.78s, heap: [98.56/14.87]mb\n",
      "Cold:    4737.10s  229.34mb\n",
      "Hot:    14449.77s  276.81mb\n",
      "\n",
      "VERTX REST\n",
      "Build size: 6.30mb\n",
      "Start in 0.36s, heap: [40.14/7.87]mb\n",
      "Cold:   50976.18s   28.61mb\n",
      "Hot:   310253.01s   97.11mb\n"
     ]
    }
   ],
   "source": [
    "spring_rest = spring(build(\"springboot_rest\"), \"test\")\n",
    "vertx_rest = vertx(build(\"vertx_rest\"), \"test\")\n",
    "\n",
    "print_item(\"\\nSPRING REST\", spring_rest)\n",
    "print_item(\"\\nVERTX REST\", vertx_rest)"
   ]
  },
  {
   "cell_type": "code",
   "execution_count": 227,
   "metadata": {},
   "outputs": [
    {
     "name": "stdout",
     "output_type": "stream",
     "text": [
      "\n",
      "------------------------------------------------------------\n",
      "Gradle 3.5\n",
      "------------------------------------------------------------\n",
      "\n",
      "Build time:   2017-04-10 13:37:25 UTC\n",
      "Revision:     b762622a185d59ce0cfc9cbc6ab5dd22469e18a6\n",
      "\n",
      "Groovy:       2.4.10\n",
      "Ant:          Apache Ant(TM) version 1.9.6 compiled on June 29 2015\n",
      "JVM:          1.8.0_131 (Oracle Corporation 25.131-b11)\n",
      "OS:           Linux 4.8.0-58-generic amd64\n",
      "\n",
      "\n"
     ]
    }
   ],
   "source": [
    "print(subprocess.check_output([\"gradle\", \"-v\"]).decode('utf-8'))"
   ]
  },
  {
   "cell_type": "code",
   "execution_count": 27,
   "metadata": {},
   "outputs": [
    {
     "name": "stdout",
     "output_type": "stream",
     "text": [
      "Build created in 3.877910 s\n",
      "Vertx was started\n",
      "Full GC\n",
      "Requests/sec: 217435.66\n",
      "Requests/sec: 303072.51\n",
      "Requests/sec: 300485.08\n",
      "\n",
      "VERTX\n",
      "Build size: 6.30mb\n",
      "Start in 0.36s, heap: [40.14/7.87]mb\n",
      "Cold:  217435.66s   54.77mb\n",
      "Hot:   300485.08s  150.21mb\n"
     ]
    }
   ],
   "source": [
    "vertx = vertx(build(\"vertx_rest\"), \"test\")\n",
    "\n",
    "print_item(\"\\nVERTX\", vertx)"
   ]
  },
  {
   "cell_type": "code",
   "execution_count": 127,
   "metadata": {},
   "outputs": [
    {
     "data": {
      "text/plain": [
       "47732.38"
      ]
     },
     "execution_count": 127,
     "metadata": {},
     "output_type": "execute_result"
    }
   ],
   "source": [
    "request_per_seconds(\"test\")"
   ]
  },
  {
   "cell_type": "code",
   "execution_count": 172,
   "metadata": {},
   "outputs": [
    {
     "data": {
      "text/plain": [
       "14409344"
      ]
     },
     "execution_count": 172,
     "metadata": {},
     "output_type": "execute_result"
    }
   ],
   "source": [
    "os.path.getsize(home + 'springboot/build/libs/springboot-0.1.0.jar')"
   ]
  }
 ],
 "metadata": {
  "kernelspec": {
   "display_name": "Python 3",
   "language": "python",
   "name": "python3"
  },
  "language_info": {
   "codemirror_mode": {
    "name": "ipython",
    "version": 3
   },
   "file_extension": ".py",
   "mimetype": "text/x-python",
   "name": "python",
   "nbconvert_exporter": "python",
   "pygments_lexer": "ipython3",
   "version": "3.5.2"
  }
 },
 "nbformat": 4,
 "nbformat_minor": 2
}
